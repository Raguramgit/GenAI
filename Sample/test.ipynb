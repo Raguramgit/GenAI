{
 "cells": [
  {
   "cell_type": "code",
   "execution_count": 15,
   "id": "4bc84410",
   "metadata": {},
   "outputs": [
    {
     "name": "stdout",
     "output_type": "stream",
     "text": [
      "\n",
      "I am learning python file handling.\n"
     ]
    }
   ],
   "source": [
    "#File Handling in Python\n",
    "#Reading and Writing Files\n",
    "#Opening a File\n",
    "file = open(\"note.txt\", \"r\")\n",
    "#Reading the File\n",
    "content = file.read()\n",
    "print(content)\n",
    "# writing to a file\n",
    "file = open(\"note.txt\" , \"w\")\n",
    "file.write(\"I am learning python file handling.\")\n",
    "file.close()\n"
   ]
  },
  {
   "cell_type": "code",
   "execution_count": 19,
   "id": "c7896261",
   "metadata": {},
   "outputs": [],
   "source": [
    "# writing to a file\n",
    "file = open(\"note.txt\" , \"a\")\n",
    "file.write(\"I am learning python file handling.\")\n",
    "file.write(\"\\nI need to practice more.\")\n",
    "file.write(\"\\nI will become good in python file handling.\")\n",
    "file.close()"
   ]
  },
  {
   "cell_type": "code",
   "execution_count": 20,
   "id": "cd3a7d2f",
   "metadata": {},
   "outputs": [
    {
     "name": "stdout",
     "output_type": "stream",
     "text": [
      "I am learning python file handling.\n",
      "I need to practice more.\n",
      "I will become good in python file handling.\n"
     ]
    }
   ],
   "source": [
    "with open(\"note.txt\", \"r\") as file:\n",
    "    content = file.read()\n",
    "    print(content)"
   ]
  }
 ],
 "metadata": {
  "kernelspec": {
   "display_name": "show",
   "language": "python",
   "name": "python3"
  },
  "language_info": {
   "codemirror_mode": {
    "name": "ipython",
    "version": 3
   },
   "file_extension": ".py",
   "mimetype": "text/x-python",
   "name": "python",
   "nbconvert_exporter": "python",
   "pygments_lexer": "ipython3",
   "version": "3.10.11"
  }
 },
 "nbformat": 4,
 "nbformat_minor": 5
}
